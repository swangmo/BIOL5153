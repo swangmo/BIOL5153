{
 "cells": [
  {
   "cell_type": "code",
   "execution_count": 21,
   "metadata": {},
   "outputs": [
    {
     "name": "stdout",
     "output_type": "stream",
     "text": [
      "processed sequence with length43\n",
      "processed sequence with length38\n",
      "processed sequence with length49\n",
      "processed sequence with length34\n",
      "processed sequence with length48\n"
     ]
    }
   ],
   "source": [
    "#Processing DNA file\n",
    "file = open(\"input.txt\")\n",
    "output = open(\"trimmed.txt\", \"w\")\n",
    "for dna in file:\n",
    "    length = len(dna)\n",
    "    trimdna = dna[14:]\n",
    "    output.write(trimdna)\n",
    "    print(\"processed sequence with length\" + str(len(trimdna)))"
   ]
  },
  {
   "cell_type": "code",
   "execution_count": 52,
   "metadata": {},
   "outputs": [
    {
     "name": "stdout",
     "output_type": "stream",
     "text": [
      "coding sequence is :TCGATCGATCGACTGACTAGTCATAGCTATGCATGTAGCTACTCGATCGATCG\n",
      "coding sequence is :TCGATCGATCGACTGACTAGTCATAGCTATGCATGTAGCTACTCGATCGATCGCGATCGATCGATCATGCTATCATCGATCGATATCGATGCATCGACTACTAT\n",
      "\n",
      "coding sequence is :TCGATCGATCGACTGACTAGTCATAGCTATGCATGTAGCTACTCGATCGATCGCGATCGATCGATCATGCTATCATCGATCGATATCGATGCATCGACTACTAT\n",
      "\n",
      "coding sequence is :TCGATCGATCGACTGACTAGTCATAGCTATGCATGTAGCTACTCGATCGATCGCGATCGATCGATCATGCTATCATCGATCGATATCGATGCATCGACTACTAT\n",
      "\n"
     ]
    }
   ],
   "source": [
    "#Multiple exons from genomic DNA\n",
    "\n",
    "genomic_dna = open(\"genomic_dna.txt\").read()\n",
    "exon_locations = open(\"exons.txt\")\n",
    "coding_sequence = \"\"\n",
    "for line in exon_locations:\n",
    "    positions = line.split(',')\n",
    "    start = int(positions[0])\n",
    "    stop = int(positions[1])\n",
    "    exon = genomic_dna[start:stop]\n",
    "    coding_sequence = coding_sequence + exon\n",
    "    print(\"coding sequence is :\" + coding_sequence)\n",
    "    output = open(\"coding_sequence.txt\", \"w\")\n",
    "    output.write(coding_sequence)\n",
    "    output.close()\n",
    "    \n"
   ]
  },
  {
   "cell_type": "code",
   "execution_count": null,
   "metadata": {},
   "outputs": [],
   "source": []
  },
  {
   "cell_type": "code",
   "execution_count": null,
   "metadata": {},
   "outputs": [],
   "source": []
  }
 ],
 "metadata": {
  "kernelspec": {
   "display_name": "Python 2",
   "language": "python",
   "name": "python2"
  },
  "language_info": {
   "codemirror_mode": {
    "name": "ipython",
    "version": 2
   },
   "file_extension": ".py",
   "mimetype": "text/x-python",
   "name": "python",
   "nbconvert_exporter": "python",
   "pygments_lexer": "ipython2",
   "version": "2.7.15"
  }
 },
 "nbformat": 4,
 "nbformat_minor": 2
}
