import argparse

from __future__ import division

def get_GC_content(sequence):
    
    G_count = sequence.count('G')
    C_count = sequence.count('C')
    length = len(sequence)
    GC_content = (G_count + C_count )* 100/ length
    return GC_content

#Testing with DNA sequence in substring_sequence.txt
sequence = open("substring_sequence.txt").read()
my_GC_content = get_GC_content(sequence)
print(my_GC_content)
args = ""
def Main():
    parser = argparse.ArgumentParser()
    
    parser.add_argument("seq", help = "GC content of a sequence", type=str)
    args = parser.parse_args()
    result = get_GC_content(args.seq)
#print "The" + str(args.seq)+ "is the GC content" +str(result)

if __name__ == '__main__':
    Main()
