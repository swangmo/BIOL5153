{
 "cells": [
  {
   "cell_type": "code",
   "execution_count": 9,
   "metadata": {},
   "outputs": [
    {
     "name": "stdout",
     "output_type": "stream",
     "text": [
      "length of string:54\n",
      "length of A:16\n",
      "length of T:21\n",
      "AT content is:0.685185185185\n"
     ]
    }
   ],
   "source": [
    "#!/usr/bin/env python\n",
    "from __future__ import division\n",
    "#Calculating AT content\n",
    "\n",
    "my_dna = 'ACTGATCGATTACGTATAGTATTTGCTATCATACATATATATCGATGCGTTCAT'\n",
    "length = len(my_dna)\n",
    "numA = my_dna.count('A')\n",
    "numT = my_dna.count('T')\n",
    "AT_content = (numA + numT)/length\n",
    "\n",
    "print(\"length of string:\" + str(length))\n",
    "print(\"length of A:\" + str(numA))\n",
    "print(\"length of T:\" + str(numT))\n",
    "print(\"AT content is:\" + str(AT_content))\n",
    "\n"
   ]
  },
  {
   "cell_type": "code",
   "execution_count": 4,
   "metadata": {},
   "outputs": [
    {
     "name": "stdout",
     "output_type": "stream",
     "text": [
      "TGACTAGCTAATGCATATCATAAACGATAGTATGTATATATAGCTACGCAAGTA\n"
     ]
    }
   ],
   "source": [
    "#complementing DNA\n",
    "\n",
    "dna = 'ACTGATCGATTACGTATAGTATTTGCTATCATACATATATATCGATGCGTTCAT'\n",
    "replace1 = dna.replace('A','t')\n",
    "replace2 = replace1.replace('C','g')\n",
    "replace3 = replace2.replace('G','C')\n",
    "replace4 = replace3.replace('T','a')\n",
    "print(replace4.upper())\n",
    "\n"
   ]
  },
  {
   "cell_type": "code",
   "execution_count": 5,
   "metadata": {},
   "outputs": [
    {
     "name": "stdout",
     "output_type": "stream",
     "text": [
      "length of frag1:22\n",
      "length of frag2:33\n"
     ]
    }
   ],
   "source": [
    "#Restriction enzymes\n",
    "\n",
    "dna= 'ACTGATCGATTACGTATAGTAGAATTCTATCATACATATATATCGATGCGTTCAT'\n",
    "length = len(dna)\n",
    "frag1 = dna.find(\"GAATTC\") + 1\n",
    "frag2 = len(dna) - frag1\n",
    "print(\"length of frag1:\" + str(frag1))\n",
    "print(\"length of frag2:\" + str(frag2))"
   ]
  },
  {
   "cell_type": "code",
   "execution_count": 6,
   "metadata": {},
   "outputs": [
    {
     "name": "stdout",
     "output_type": "stream",
     "text": [
      "125\n",
      "63\n",
      "34\n",
      "ATCGATCGATCGATCGACTGACTAGTCATAGCTATGCATGTAGCTACTCGATCGATCGA TCGATCATCGATCGATATCGATGCATCGACT ACTAT\n",
      "97\n"
     ]
    }
   ],
   "source": [
    "#splicing out intron,part one\n",
    "\n",
    "dna= 'ATCGATCGATCGATCGACTGACTAGTCATAGCTATGCATGTAGCTACTCGATCGATCGA TCGATCGATCGATCGATCGATCGATCATGCTATCATCGATCGATATCGATGCATCGACT ACTAT'\n",
    "length = len(dna)\n",
    "print(length)\n",
    "E1 = (dna[0:63])\n",
    "E2 = (dna[91:125])\n",
    "lengthE1 = len(E1)\n",
    "lengthE2 = len(E2)\n",
    "print(lengthE1)\n",
    "print(lengthE2)\n",
    "# Total exon = E1 + E2\n",
    "E3 = E1 + E2\n",
    "print(E3)\n",
    "E3length = lengthE1 + lengthE2\n",
    "print(str(E3length))\n"
   ]
  },
  {
   "cell_type": "code",
   "execution_count": 10,
   "metadata": {},
   "outputs": [
    {
     "name": "stdout",
     "output_type": "stream",
     "text": [
      "125\n",
      "63\n",
      "34\n",
      "77.6\n"
     ]
    }
   ],
   "source": [
    "#splicing out intro,part 2\n",
    "dna = 'ATCGATCGATCGATCGACTGACTAGTCATAGCTATGCATGTAGCTACTCGATCGATCGA TCGATCGATCGATCGATCGATCGATCATGCTATCATCGATCGATATCGATGCATCGACT ACTAT'\n",
    "length = len(dna)\n",
    "print(length)\n",
    "E1 = (dna[0:63])\n",
    "E2 = (dna[91:125])\n",
    "lengthE1 = len(E1)\n",
    "lengthE2 = len(E2)\n",
    "print(lengthE1)\n",
    "print(lengthE2)\n",
    "# Total exon = E1 + E2\n",
    "E3 = E1 + E2\n",
    "E3length = lengthE1 + lengthE2\n",
    "lengthE3 = len(E3)\n",
    "\n",
    "#percentage of coding string\n",
    "\n",
    "print(100 * lengthE3/length)"
   ]
  },
  {
   "cell_type": "code",
   "execution_count": 11,
   "metadata": {},
   "outputs": [
    {
     "name": "stdout",
     "output_type": "stream",
     "text": [
      "ATCGATCGATCGATCGACTGACTAGTCATAGCTATGCATGTAGCTACTCGATCGATCGA TCGATCATCGATCGATATCGATGCATCGACT ACTAT\n",
      "tcgatcgatcgatcgatcgatcatgc\n"
     ]
    }
   ],
   "source": [
    "#splicing out intro,part 3\n",
    "\n",
    "dna = 'ATCGATCGATCGATCGACTGACTAGTCATAGCTATGCATGTAGCTACTCGATCGATCGA TCGATCGATCGATCGATCGATCGATCATGCTATCATCGATCGATATCGATGCATCGACT ACTAT'\n",
    "E1 = (dna[0:63])\n",
    "E2 = (dna[91:125])\n",
    "E3= E1 + E2\n",
    "print(E3.upper())\n",
    "\n",
    "# Total exon = E1 + E2\n",
    "E4 = (dna[64:90])\n",
    "print(E4.lower())\n",
    "\n"
   ]
  },
  {
   "cell_type": "code",
   "execution_count": null,
   "metadata": {},
   "outputs": [],
   "source": []
  }
 ],
 "metadata": {
  "kernelspec": {
   "display_name": "Python 2",
   "language": "python",
   "name": "python2"
  },
  "language_info": {
   "codemirror_mode": {
    "name": "ipython",
    "version": 2
   },
   "file_extension": ".py",
   "mimetype": "text/x-python",
   "name": "python",
   "nbconvert_exporter": "python",
   "pygments_lexer": "ipython2",
   "version": "2.7.15"
  }
 },
 "nbformat": 4,
 "nbformat_minor": 2
}
