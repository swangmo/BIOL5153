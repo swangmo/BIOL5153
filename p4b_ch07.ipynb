{
 "cells": [
  {
   "cell_type": "code",
   "execution_count": 1,
   "metadata": {},
   "outputs": [
    {
     "name": "stdout",
     "output_type": "stream",
     "text": [
      "\txkn59438\n",
      "\thedle3455\n",
      "\txjhd53e\n",
      "\t45da\n",
      "\tyhdck2\n",
      "\teihd39d9\n",
      "\tchdsye847\n",
      "\thedle3455\n",
      "\txjhd53e\n",
      "\t45da\n",
      "\tde37dp\n",
      "\tchdsye847\n",
      "\thedle3455\n",
      "\txjhd53e\n",
      "\tde37dp\n",
      "\thedle3455\n",
      "\teihd39d9\n",
      "\tchdsye847\n",
      "\thedle3455\n",
      "\txjhd53e\n",
      "\tde37dp\n",
      "\txkn59438\n",
      "\tyhdck2\n",
      "\txjhd53e\n",
      "\txjhd53e\n",
      "\txkn59438\n",
      "\tchdsye847\n",
      "\thedle3455\n",
      "\t45da\n",
      "\tde37dp\n"
     ]
    }
   ],
   "source": [
    "#Accession names\n",
    "import re\n",
    "accs = [\"xkn59438\", \"yhdck2\", \"eihd39d9\", \"chdsye847\", \"hedle3455\",\n",
    "\"xjhd53e\", \"45da\", \"de37dp\"]\n",
    "\n",
    "#1.Contains number '5'\n",
    "for acc in accs: \n",
    "    if re.search(r\"5\", acc):\n",
    "        print(\"\\t\" + acc)\n",
    "        \n",
    "#2.Contains either letter 'd' or 'e'\n",
    "\n",
    "for acc in accs:\n",
    "    if re.search(r\"(d|e)\", acc):\n",
    "        print(\"\\t\" + acc)\n",
    "\n",
    "#3.Contains both letter 'd' and 'e'\n",
    "\n",
    "for acc in accs:\n",
    "    if re.search(r\"d.*e\", acc):\n",
    "        print(\"\\t\" + acc)\n",
    "        \n",
    "#4.Contains letter 'd' followed by letter 'e'\n",
    "\n",
    "for acc in accs:\n",
    "    if re.search(r\"(d.e)\", acc):\n",
    "        print(\"\\t\" + acc)\n",
    "        \n",
    "#5.Contains letter 'd' and 'e' in any order\n",
    "\n",
    "for acc in accs:\n",
    "    if re.search(r\"d.*e\", acc) or re.search(r\"e.*d\", acc):\n",
    "        print(\"\\t\" + acc)\n",
    "        \n",
    "#6.Contains accessions that starts with either 'X' or 'Y'\n",
    "\n",
    "for acc in accs:\n",
    "    if re.search(r\"^(x|y)\", acc):\n",
    "        print(\"\\t\" + acc)\n",
    "        \n",
    "#7.Contains accesion that starts with 'X' or 'Y' and ends with 'e'\n",
    "\n",
    "for acc in accs:\n",
    "    if re.search(r\"^(x|y).*e$\", acc):\n",
    "        print(\"\\t\" + acc)\n",
    "        \n",
    "#8.#Contains three or more numbers in a row using quantifiers\n",
    "\n",
    "for acc in accs:\n",
    "    if re.search(r\"[0123456789]{3,100}\", acc):\n",
    "        print(\"\\t\" + acc)\n",
    "        \n",
    "#9.Contains accesions that end with d followed by either a, r or p\n",
    "\n",
    "for acc in accs:\n",
    "    if re.search(r\"d[arp]$\", acc):\n",
    "        print(\"\\t\" + acc)\n"
   ]
  },
  {
   "cell_type": "code",
   "execution_count": 11,
   "metadata": {},
   "outputs": [
    {
     "name": "stdout",
     "output_type": "stream",
     "text": [
      "18\n",
      "[0, 18]\n",
      "one fragment size is  18\n"
     ]
    }
   ],
   "source": [
    "#Double digest\n",
    "\n",
    "import re\n",
    "dna = open(\"dna.txt\").read().rstrip(\"\\n\")\n",
    "print(str(len(dna)))\n",
    "all_cuts = [0]\n",
    "\n",
    "# add cut positions for AbcI\n",
    "for match in re.finditer(r\"A[ATGC]TAAT\", dna):\n",
    "    all_cuts.append(match.start() + 3)\n",
    "    \n",
    "# add cut positions for AbcII\n",
    "for match in re.finditer(r\"GC[AG][AT]TG\", dna):\n",
    "    all_cuts.append(match.start() + 4)\n",
    "    \n",
    "# add the final position\n",
    "all_cuts.append(len(dna))\n",
    "sorted_cuts = sorted(all_cuts)\n",
    "print(sorted_cuts)\n",
    "\n",
    "for i in range(1,len(sorted_cuts)):\n",
    "    this_cut_position = sorted_cuts[i]\n",
    "    previous_cut_position = sorted_cuts[i-1]\n",
    "    fragment_size = this_cut_position - previous_cut_position\n",
    "    print(\"one fragment size is  \"  + str(fragment_size))"
   ]
  },
  {
   "cell_type": "code",
   "execution_count": null,
   "metadata": {},
   "outputs": [],
   "source": []
  }
 ],
 "metadata": {
  "kernelspec": {
   "display_name": "Python 2",
   "language": "python",
   "name": "python2"
  },
  "language_info": {
   "codemirror_mode": {
    "name": "ipython",
    "version": 2
   },
   "file_extension": ".py",
   "mimetype": "text/x-python",
   "name": "python",
   "nbconvert_exporter": "python",
   "pygments_lexer": "ipython2",
   "version": "2.7.15"
  }
 },
 "nbformat": 4,
 "nbformat_minor": 2
}
