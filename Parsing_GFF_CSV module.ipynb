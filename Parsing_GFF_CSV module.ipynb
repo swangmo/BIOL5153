{
 "cells": [
  {
   "cell_type": "code",
   "execution_count": 8,
   "metadata": {},
   "outputs": [],
   "source": [
    "# Parsing GFF file using CSV module\n",
    "\n",
    "import csv\n",
    "\n",
    "#open the output file\n",
    "with open('watermelon.out', 'w') as out_gff:\n",
    "\n",
    "    #open the data file\n",
    "    with open('watermelon.gff', 'r') as gff:\n",
    "        \n",
    "        #create a csv reader object\n",
    "        csvreader = csv.reader(gff, delimiter= '\\t')\n",
    "        \n",
    "        #interact with the csv reader\n",
    "    \n",
    "        for line in csvreader:\n",
    "            if not line:\n",
    "                continue\n",
    "        else:\n",
    "         \n",
    "            # create a csv writer object\n",
    "            linewriter = csv.writer(out_gff)\n",
    "            linewriter.writerow(line)\n",
    "            #print(line)\n",
    "          \n",
    "    \n",
    "    \n",
    "    #csv is the module and reader is a method that can parse file with any delimiter\n",
    "    #for line in shaver:\n",
    "    #   print(line)\n",
    "    "
   ]
  },
  {
   "cell_type": "code",
   "execution_count": null,
   "metadata": {},
   "outputs": [],
   "source": []
  },
  {
   "cell_type": "code",
   "execution_count": null,
   "metadata": {},
   "outputs": [],
   "source": []
  },
  {
   "cell_type": "code",
   "execution_count": null,
   "metadata": {},
   "outputs": [],
   "source": []
  }
 ],
 "metadata": {
  "kernelspec": {
   "display_name": "Python 2",
   "language": "python",
   "name": "python2"
  },
  "language_info": {
   "codemirror_mode": {
    "name": "ipython",
    "version": 2
   },
   "file_extension": ".py",
   "mimetype": "text/x-python",
   "name": "python",
   "nbconvert_exporter": "python",
   "pygments_lexer": "ipython2",
   "version": "2.7.15"
  }
 },
 "nbformat": 4,
 "nbformat_minor": 2
}
