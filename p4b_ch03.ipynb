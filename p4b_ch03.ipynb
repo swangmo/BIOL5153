{
 "cells": [
  {
   "cell_type": "code",
   "execution_count": 25,
   "metadata": {},
   "outputs": [
    {
     "name": "stdout",
     "output_type": "stream",
     "text": [
      "ATCGATCGATCGATCGACTGACTAGTCATAGCTATGCATGTAGCTACTCGATCGATCGATCG atcgatcgatcgatcgatcgatcatgct ATCATCGATCGATATCGATGCATCGACTACTAT\n",
      "\n"
     ]
    }
   ],
   "source": [
    "#splitting genomic DNA\n",
    "\n",
    "dna_file = open(\"genomic_dna.txt\")\n",
    "my_dna = dna_file.read()\n",
    "Exon1 = my_dna[0:62]\n",
    "Exon2 = my_dna[90:10000]\n",
    "Intron = my_dna[62:90]\n",
    "print(Exon1 + \" \" + Intron.lower()+ \" \" + Exon2)\n",
    "\n",
    "coding_file = open(\"coding_dna.txt\", \"w\")\n",
    "noncoding_file = open(\"noncoding_dna.txt\", \"w\")\n",
    "coding_file.write(Exon1 + Exon2)\n",
    "noncoding_file.write(Intron.lower())"
   ]
  },
  {
   "cell_type": "code",
   "execution_count": 32,
   "metadata": {},
   "outputs": [
    {
     "name": "stdout",
     "output_type": "stream",
     "text": [
      ">ABC123\n",
      "ATCGTACGATCGATCGATCGCTAGACGTATCG\n",
      ">DEF456\n",
      "actgatcgacgatcgatcgatcacgact\n",
      ">HIJ789\n",
      "ACTGAC-ACTGT--ACTGTA----CATGTG\n"
     ]
    }
   ],
   "source": [
    "#Writing Fasta file\n",
    "\n",
    "header1 = \"ABC123\"\n",
    "header2 = \"DEF456\"\n",
    "header3 = \"HIJ789\"\n",
    "\n",
    "seq1 = \"ATCGTACGATCGATCGATCGCTAGACGTATCG\"\n",
    "seq2 = \"actgatcgacgatcgatcgatcacgact\"\n",
    "seq3 = \"ACTGAC-ACTGT--ACTGTA----CATGTG\"\n",
    "\n",
    "print(\">\" + header1 + \"\\n\" + seq1)\n",
    "print(\">\" + header2 + \"\\n\" + seq2)\n",
    "print(\">\" + header3 + \"\\n\" + seq3)\n",
    "\n",
    "output = open(\"sequences.fasta\", \"w\")\n",
    "output.write('>' + header1 + '\\n' + seq1)\n",
    "output.write('>' + header2 + '\\n' + seq2.upper())\n",
    "output.write('>' + header3 + '\\n' + seq3.replace('-', ''))\n"
   ]
  },
  {
   "cell_type": "code",
   "execution_count": null,
   "metadata": {},
   "outputs": [],
   "source": [
    "\n",
    "#Writing multiple Fasta files\n",
    "\n",
    "header1 = \"ABC123\"\n",
    "header2 = \"DEF456\"\n",
    "header3 = \"HIK789\"\n",
    "\n",
    "seq1 = \"ATCGTACGATCGATCGATCGCTAGACGTATCG\"\n",
    "seq2 = \"actgatcgacgatcgatcgatcacgact\"\n",
    "seq3 = \"ACTGAC-ACTGT--ACTGTA----CATGTG\"\n",
    "\n",
    "output_1 = open(header1 + \".fasta\", \"w\")\n",
    "output_2 = open(header2 + \".fasta\", \"w\")\n",
    "output_3 = open(header3 + \".fasta\", \"w\")\n",
    "\n",
    "output_1.write('>' + header1 + '\\n' + seq1 + '\\n')\n",
    "output_2.write('>' + header2 + '\\n' + seq2.upper() + '\\n')\n",
    "output_3.write('>' + header3 + '\\n' + seq3.replace('-','') + '\\n')\n",
    "\n",
    "\n",
    "\n",
    "\n"
   ]
  }
 ],
 "metadata": {
  "kernelspec": {
   "display_name": "Python 2",
   "language": "python",
   "name": "python2"
  },
  "language_info": {
   "codemirror_mode": {
    "name": "ipython",
    "version": 2
   },
   "file_extension": ".py",
   "mimetype": "text/x-python",
   "name": "python",
   "nbconvert_exporter": "python",
   "pygments_lexer": "ipython2",
   "version": "2.7.15"
  }
 },
 "nbformat": 4,
 "nbformat_minor": 2
}
