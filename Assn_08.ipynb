{
 "cells": [
  {
   "cell_type": "code",
   "execution_count": 1,
   "metadata": {},
   "outputs": [
    {
     "name": "stdout",
     "output_type": "stream",
     "text": [
      "Katherine\n",
      "Catheryn\n",
      "Cathryn’\n",
      "Kathryn\n",
      "Katherine\n",
      "Catherine\n",
      "Kathrin\n",
      "katharine\n"
     ]
    }
   ],
   "source": [
    "import re\n",
    "\n",
    "Name = \"Katherine went to the concert to see her favorite band, Catheryn and the Cathryn’s. She ran into her friend Kathryn, who introduced Katherine to her friend, Catherine. Together, they enjoyed the concert while texting inaudible snippets to their mutual friends, Kathrin and katharine.\"\n",
    "\n",
    "line = Name.split()\n",
    "\n",
    "for name in line:\n",
    "    name = name.rstrip(\".\").rstrip(\",\").rstrip(\"s\").rstrip(\"\")\n",
    "    if re.search(\"(ka|Ca.*(r.*))\",name,re.I):\n",
    "        print(name)"
   ]
  },
  {
   "cell_type": "code",
   "execution_count": null,
   "metadata": {},
   "outputs": [],
   "source": []
  }
 ],
 "metadata": {
  "kernelspec": {
   "display_name": "Python 2",
   "language": "python",
   "name": "python2"
  },
  "language_info": {
   "codemirror_mode": {
    "name": "ipython",
    "version": 2
   },
   "file_extension": ".py",
   "mimetype": "text/x-python",
   "name": "python",
   "nbconvert_exporter": "python",
   "pygments_lexer": "ipython2",
   "version": "2.7.15"
  }
 },
 "nbformat": 4,
 "nbformat_minor": 2
}
