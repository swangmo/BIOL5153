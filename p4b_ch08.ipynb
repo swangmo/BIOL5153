{
 "cells": [
  {
   "cell_type": "code",
   "execution_count": 43,
   "metadata": {},
   "outputs": [
    {
     "name": "stdout",
     "output_type": "stream",
     "text": [
      "MFG\n",
      "TDRS_LTYR\n",
      "TIDRXVRSYS\n"
     ]
    }
   ],
   "source": [
    "dna = \"ATGTTCGGT\"\n",
    "\n",
    "#List of protein corresponing to codons\n",
    "gencode = {\n",
    "'ATA':'I', 'ATC':'I', 'ATT':'I', 'ATG':'M',\n",
    "'ACA':'T', 'ACC':'T', 'ACG':'T', 'ACT':'T',\n",
    "'AAC':'N', 'AAT':'N', 'AAA':'K', 'AAG':'K',\n",
    "'AGC':'S', 'AGT':'S', 'AGA':'R', 'AGG':'R',\n",
    "'CTA':'L', 'CTC':'L', 'CTG':'L', 'CTT':'L',\n",
    "'CCA':'P', 'CCC':'P', 'CCG':'P', 'CCT':'P',\n",
    "'CAC':'H', 'CAT':'H', 'CAA':'Q', 'CAG':'Q',\n",
    "'CGA':'R', 'CGC':'R', 'CGG':'R', 'CGT':'R',\n",
    "'GTA':'V', 'GTC':'V', 'GTG':'V', 'GTT':'V',\n",
    "'GCA':'A', 'GCC':'A', 'GCG':'A', 'GCT':'A',\n",
    "'GAC':'D', 'GAT':'D', 'GAA':'E', 'GAG':'E',\n",
    "'GGA':'G', 'GGC':'G', 'GGG':'G', 'GGT':'G',\n",
    "'TCA':'S', 'TCC':'S', 'TCG':'S', 'TCT':'S',\n",
    "'TTC':'F', 'TTT':'F', 'TTA':'L', 'TTG':'L',\n",
    "'TAC':'Y', 'TAT':'Y', 'TAA':'_', 'TAG':'_',\n",
    "'TGC':'C', 'TGT':'C', 'TGA':'_', 'TGG':'W'}\n",
    "\n",
    "#Creation of function to translate aa to protein\n",
    "\n",
    "def translate_dna(dna):\n",
    "    last_codon_start = len(dna) - 2\n",
    "    protein= \"\"\n",
    "    for start in range(0,last_codon_start,3):\n",
    "        codon = dna[start:start+3]\n",
    "        aa = gencode.get(codon.upper(), 'X')\n",
    "        protein = protein + aa\n",
    "    return protein\n",
    "    \n",
    "#Case.1: translate dna sequence below    \n",
    "print(translate_dna(\"ATGTTCGGT\"))\n",
    "\n",
    "#Case.2: traslate dna sequuence in lower case to protein\n",
    "print(translate_dna(\"actgatcgtagctagctgacgtatcgtat\"))\n",
    "\n",
    "#Case.3: translate dna sequence with unknown base to protein\n",
    "print(translate_dna(\"ACGATCGATCGTNACGTACGATCGTACTCG\"))"
   ]
  },
  {
   "cell_type": "code",
   "execution_count": null,
   "metadata": {},
   "outputs": [],
   "source": []
  },
  {
   "cell_type": "code",
   "execution_count": null,
   "metadata": {},
   "outputs": [],
   "source": []
  },
  {
   "cell_type": "code",
   "execution_count": null,
   "metadata": {},
   "outputs": [],
   "source": []
  }
 ],
 "metadata": {
  "kernelspec": {
   "display_name": "Python 2",
   "language": "python",
   "name": "python2"
  },
  "language_info": {
   "codemirror_mode": {
    "name": "ipython",
    "version": 2
   },
   "file_extension": ".py",
   "mimetype": "text/x-python",
   "name": "python",
   "nbconvert_exporter": "python",
   "pygments_lexer": "ipython2",
   "version": "2.7.15"
  }
 },
 "nbformat": 4,
 "nbformat_minor": 2
}
