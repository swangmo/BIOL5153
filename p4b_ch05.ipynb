{
 "cells": [
  {
   "cell_type": "code",
   "execution_count": 6,
   "metadata": {},
   "outputs": [],
   "source": [
    "# Question no.1: Percentage of amino acid residue, part one\n",
    "\n",
    "from __future__ import division\n",
    "\n",
    "# Code to calculate the amino acid residue in a protein \n",
    "\n",
    "protein = \"MSRSLLLRFLLFLLLLPPLP\"\n",
    "aa = \"R\"\n",
    "aa_count = protein.count(aa)\n",
    "protein_length = len(protein)\n",
    "percentage = aa_count * 100/ protein_length\n",
    "\n",
    "#Creating function using the code above\n",
    "\n",
    "def get_aa_percentage(protein, aa):\n",
    "\n",
    "    protein = protein.upper()\n",
    "    aa = aa.upper()\n",
    "\n",
    "    aa_count = protein.count(aa)\n",
    "    protein_length = len(protein)\n",
    "    percentage = aa_count * 100/ protein_length\n",
    "    return percentage\n",
    "\n",
    "#Testing with insertion\n",
    "\n",
    "assert get_aa_percentage(\"MSRSLLLRFLLFLLLLPPLP\", \"M\") == 5\n",
    "assert get_aa_percentage(\"MSRSLLLRFLLFLLLLPPLP\", \"r\") == 10\n",
    "assert get_aa_percentage(\"MSRSLLLRFLLFLLLLPPLP\", \"L\") == 50\n",
    "assert get_aa_percentage(\"MSRSLLLRFLLFLLLLPPLP\", \"Y\") == 0\n",
    "\n",
    "#Note: no error meaning the function is working\n",
    "\n"
   ]
  },
  {
   "cell_type": "code",
   "execution_count": 4,
   "metadata": {},
   "outputs": [],
   "source": [
    "#Question no.2: Percentage of amino acide residues, part two\n",
    "\n",
    "# Code to calculate the amino acid residue in a protein \n",
    "from __future__ import division\n",
    "\n",
    "protein = \"MSRSLLLRFLLFLLLLPPLP\"\n",
    "aa_list = ['M', 'L','F']\n",
    "total = 0\n",
    "for aa in aa_list:\n",
    "    aa_count = protein.count(aa.upper())\n",
    "    total = total + aa_count\n",
    "    print(\"counting number of \" + aa)\n",
    "    print(\"running total is\" + \" \" + str(total))\n",
    "    \n",
    "percentage = total * 100/ len(protein)\n",
    "\n",
    "#Creating function using the code above\n",
    "def aa_percentage(protein, aa_list=['A','I','L','M','F','W','Y','V']):\n",
    "    protein = protein.upper()\n",
    "    protein_length = len(protein)\n",
    "    total = 0\n",
    "    for aa in aa_list:\n",
    "        aa = aa.upper()\n",
    "        aa_count = protein.count(aa)\n",
    "        total = total + aa_count\n",
    "    percentage = total * 100/protein_length\n",
    "    return percentage\n",
    "\n",
    "#Testing with insertion\n",
    "assert get_aa_percentage(\"MSRSLLLRFLLFLLLLPPLP\", \"M\") == 5\n",
    "assert get_aa_percentage(\"MSRSLLLRFLLFLLLLPPLP\", \"r\") == 10\n",
    "assert get_aa_percentage(\"msrslllrfllfllllpplp\", \"L\") == 50\n",
    "assert get_aa_percentage(\"MSRSLLLRFLLFLLLLPPLP\", \"Y\") == 0\n",
    "    \n",
    "#Note: no error meaning the function is working\n",
    "\n"
   ]
  },
  {
   "cell_type": "code",
   "execution_count": null,
   "metadata": {},
   "outputs": [],
   "source": []
  }
 ],
 "metadata": {
  "kernelspec": {
   "display_name": "Python 2",
   "language": "python",
   "name": "python2"
  },
  "language_info": {
   "codemirror_mode": {
    "name": "ipython",
    "version": 2
   },
   "file_extension": ".py",
   "mimetype": "text/x-python",
   "name": "python",
   "nbconvert_exporter": "python",
   "pygments_lexer": "ipython2",
   "version": "2.7.15"
  }
 },
 "nbformat": 4,
 "nbformat_minor": 2
}
